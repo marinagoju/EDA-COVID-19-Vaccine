{
 "cells": [
  {
   "cell_type": "code",
   "execution_count": null,
   "metadata": {},
   "outputs": [],
   "source": [
    "# Transformación de tipo de columna from Datetime[ns] to str. \n",
    "evol_vac_esp[\"fecha_informe\"] = evol_vac_esp[\"fecha_informe\"].astype(str)\n",
    "evol_vac_esp[[\"fecha_informe\"]].dtypes"
   ]
  },
  {
   "cell_type": "code",
   "execution_count": null,
   "metadata": {},
   "outputs": [],
   "source": [
    "evol_vac_esp[\"fecha_informe\"]"
   ]
  },
  {
   "cell_type": "code",
   "execution_count": null,
   "metadata": {},
   "outputs": [],
   "source": [
    "evolucion_covid[\"fecha\"]"
   ]
  },
  {
   "cell_type": "code",
   "execution_count": null,
   "metadata": {},
   "outputs": [],
   "source": [
    "evolucion_covid[\"Subdivisión superior\"]"
   ]
  },
  {
   "cell_type": "code",
   "execution_count": null,
   "metadata": {},
   "outputs": [],
   "source": [
    "## MERGE DATASET DE EVOLUCION VACUNACION CON EL DE EVOLUCION COVID PARA VISUALIZACION\n",
    "\n",
    "evolucion_covid\n",
    "evol_vac_esp\n",
    "df_efectividad_vac = evolucion_covid.merge(evol_vac_esp, left_on=[\"fecha\",\"Subdivisión superior\"], right_on=[\"fecha_informe\",\"ISO\"], how='inner') "
   ]
  },
  {
   "cell_type": "code",
   "execution_count": null,
   "metadata": {},
   "outputs": [],
   "source": [
    "evolucion_covid.drop_duplicates()"
   ]
  },
  {
   "cell_type": "code",
   "execution_count": null,
   "metadata": {},
   "outputs": [],
   "source": [
    "df_efectividad_vac.sort_values(by=[\"fecha\", \"Subdivisión superior\", \"grupo_edad\"], ascending=True)\n",
    "\n",
    "# 44410410\n",
    "#   149530"
   ]
  },
  {
   "cell_type": "code",
   "execution_count": null,
   "metadata": {},
   "outputs": [],
   "source": [
    "evol_vac_esp"
   ]
  }
 ],
 "metadata": {
  "language_info": {
   "name": "python"
  },
  "orig_nbformat": 4
 },
 "nbformat": 4,
 "nbformat_minor": 2
}
